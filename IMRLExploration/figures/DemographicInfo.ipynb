{
 "cells": [
  {
   "cell_type": "code",
   "execution_count": null,
   "metadata": {},
   "outputs": [],
   "source": [
    "using Pkg\n",
    "cd(\"../\")\n",
    "Pkg.activate(\".\")"
   ]
  },
  {
   "cell_type": "markdown",
   "metadata": {},
   "source": [
    "## General inofrmation and loading data"
   ]
  },
  {
   "cell_type": "markdown",
   "metadata": {},
   "source": [
    "This notebook exctracts all demographic information"
   ]
  },
  {
   "cell_type": "code",
   "execution_count": null,
   "metadata": {},
   "outputs": [],
   "source": [
    "using IMRLExploration\n",
    "using Statistics"
   ]
  },
  {
   "cell_type": "markdown",
   "metadata": {},
   "source": [
    "## Demographic information *before* exclusion of outliers"
   ]
  },
  {
   "cell_type": "code",
   "execution_count": null,
   "metadata": {},
   "outputs": [],
   "source": [
    "# Loading raw data\n",
    "Data = Read_data_all(Sub_set = 1:63);\n",
    "Sub_Num = length(Data);\n",
    "Goal_type_Set = Func_GoalType.(Data);\n",
    "\n",
    "Genders = zeros(Sub_Num);\n",
    "Ages = zeros(Sub_Num);\n",
    "for i = 1:Sub_Num\n",
    "    Genders[i], Ages[i] = Read_data_demo(i)\n",
    "end\n",
    "\n",
    "println(\"------------------------------------\")\n",
    "inds = 1:Sub_Num\n",
    "println(\"All\")\n",
    "println(string(string(length(Genders[inds])),\" Participants\"))\n",
    "println(string(string(sum(Genders[inds])),\" Females\"))\n",
    "println(string(\"Age = \",string(mean(Ages[inds])),\"+-\",string(std(Ages[inds]))))\n",
    "println(string(\"min Age = \",string(findmin(Ages[inds])[1])))\n",
    "println(string(\"max Age = \",string(findmax(Ages[inds])[1])))\n"
   ]
  },
  {
   "cell_type": "markdown",
   "metadata": {},
   "source": [
    "## Demographic information *after* exclusion of outliers"
   ]
  },
  {
   "cell_type": "code",
   "execution_count": null,
   "metadata": {},
   "outputs": [],
   "source": [
    "Outliers, Long_Subject, Quit_Subject, Data2, Goal_type_Set, Sub_Num2 =\n",
    "        Read_processed_data(Plotting = false);\n",
    "\n",
    "println(\"---------------------------------\")\n",
    "println(string(\"Outliers: \", string(mean(Outliers) * 100), \"%\"))\n",
    "println(string(\"delta outliers: \", \n",
    "                string(std(Outliers) / sqrt(Sub_Num) * 100), \"%\"))\n",
    "\n",
    "Genders = Genders[Outliers .== 0]\n",
    "Ages = Ages[Outliers .== 0]\n",
    "\n",
    "println(\"------------------------------------\")\n",
    "inds = 1:Sub_Num2\n",
    "println(\"All\")\n",
    "println(string(string(length(Genders[inds])),\" Participants\"))\n",
    "println(string(string(sum(Genders[inds])),\" Females\"))\n",
    "println(string(\"Age = \",string(mean(Ages[inds])),\"+-\",string(std(Ages[inds]))))\n",
    "println(string(\"min Age = \",string(findmin(Ages[inds])[1])))\n",
    "println(string(\"max Age = \",string(findmax(Ages[inds])[1])))\n"
   ]
  },
  {
   "cell_type": "code",
   "execution_count": null,
   "metadata": {},
   "outputs": [],
   "source": [
    "println(\"------------------------------------\")\n",
    "inds = (1:Sub_Num2)[Goal_type_Set .== 0]\n",
    "println(\"2 CHF\")\n",
    "println(string(string(length(Genders[inds])),\" Participants\"))\n",
    "println(string(string(sum(Genders[inds])),\" Females\"))\n",
    "println(string(\"Age = \",string(mean(Ages[inds])),\"+-\",string(std(Ages[inds]))))\n",
    "println(string(\"min Age = \",string(findmin(Ages[inds])[1])))\n",
    "println(string(\"max Age = \",string(findmax(Ages[inds])[1])))\n",
    "\n",
    "println(\"------------------------------------\")\n",
    "inds = (1:Sub_Num2)[Goal_type_Set .== 1]\n",
    "println(\"3 CHF\")\n",
    "println(string(string(length(Genders[inds])),\" Participants\"))\n",
    "println(string(string(sum(Genders[inds])),\" Females\"))\n",
    "println(string(\"Age = \",string(mean(Ages[inds])),\"+-\",string(std(Ages[inds]))))\n",
    "println(string(\"min Age = \",string(findmin(Ages[inds])[1])))\n",
    "println(string(\"max Age = \",string(findmax(Ages[inds])[1])))\n",
    "\n",
    "println(\"------------------------------------\")\n",
    "inds = (1:Sub_Num2)[Goal_type_Set .== 2]\n",
    "println(\"4 CHF\")\n",
    "println(string(string(length(Genders[inds])),\" Participants\"))\n",
    "println(string(string(sum(Genders[inds])),\" Females\"))\n",
    "println(string(\"Age = \",string(mean(Ages[inds])),\"+-\",string(std(Ages[inds]))))\n",
    "println(string(\"min Age = \",string(findmin(Ages[inds])[1])))\n",
    "println(string(\"max Age = \",string(findmax(Ages[inds])[1])))\n"
   ]
  },
  {
   "cell_type": "code",
   "execution_count": null,
   "metadata": {},
   "outputs": [],
   "source": []
  }
 ],
 "metadata": {
  "@webio": {
   "lastCommId": null,
   "lastKernelId": null
  },
  "kernelspec": {
   "display_name": "Julia 1.10.3",
   "language": "julia",
   "name": "julia-1.10"
  },
  "language_info": {
   "file_extension": ".jl",
   "mimetype": "application/julia",
   "name": "julia",
   "version": "1.10.3"
  }
 },
 "nbformat": 4,
 "nbformat_minor": 4
}
