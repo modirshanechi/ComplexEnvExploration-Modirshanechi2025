{
 "cells": [
  {
   "cell_type": "code",
   "execution_count": null,
   "metadata": {},
   "outputs": [],
   "source": [
    "using Pkg\n",
    "cd(\"../\")\n",
    "Pkg.activate(\".\")"
   ]
  },
  {
   "cell_type": "markdown",
   "metadata": {},
   "source": [
    "## General inofrmation"
   ]
  },
  {
   "cell_type": "markdown",
   "metadata": {},
   "source": [
    "In this notebook, we will use the fitted parameters (saved at `data/modeling/Params.CSV`) and show how to perform Posterior Predictive Checks. *Please note that the simulations may take up to an hour depending on your device.*\n",
    "\n",
    "To re-fit the models yourself, please check the folder `src/01_ModelFitting`, and for the full PPC-based model-comparison, check the folder `src/02_PPCSimulations`."
   ]
  },
  {
   "cell_type": "code",
   "execution_count": null,
   "metadata": {},
   "outputs": [],
   "source": [
    "using Revise\n",
    "using PyPlot\n",
    "using IMRLExploration\n",
    "using JLD2\n",
    "using Random\n",
    "using Statistics\n",
    "using DataFrames\n",
    "using LogExpFunctions\n",
    "using CSV\n",
    "\n",
    "using FitPopulations\n",
    "using ComponentArrays\n",
    "\n",
    "PyPlot.svg(true)\n",
    "rcParams = PyPlot.PyDict(PyPlot.matplotlib.\"rcParams\")\n",
    "rcParams[\"svg.fonttype\"] = \"none\"\n",
    "rcParams[\"pdf.fonttype\"] = 42\n",
    "\n",
    "Path_Save = \"src/02_PPCSimulation/Figures/\"\n"
   ]
  },
  {
   "cell_type": "markdown",
   "metadata": {},
   "source": [
    "## Loading real data"
   ]
  },
  {
   "cell_type": "code",
   "execution_count": null,
   "metadata": {},
   "outputs": [],
   "source": [
    "# ------------------------------------------------------------------------------\n",
    "# Loading data\n",
    "# ------------------------------------------------------------------------------\n",
    "ROutliers, RLong_Subject, RQuit_Subject, RData, RGoal_type_Set, RSub_Num =\n",
    "        Read_processed_data(Plotting = true);\n",
    "RData_ns = Str_Input2Agents.(RData);"
   ]
  },
  {
   "cell_type": "markdown",
   "metadata": {},
   "source": [
    "## Modeling information"
   ]
  },
  {
   "cell_type": "code",
   "execution_count": null,
   "metadata": {},
   "outputs": [],
   "source": [
    "# ------------------------------------------------------------------------------\n",
    "# initializing the params\n",
    "# ------------------------------------------------------------------------------\n",
    "Param = Str_Param(; total_leak=true)\n",
    "Rs    = [1.,1.,1.]\n",
    "ws    = [1.,1.,1.]\n",
    "A = Str_Agent_Policy(Param, Rs, NIS_object(ws))\n",
    "p = parameters(A)\n",
    "p_names = [string(k) for k = keys(param2η(p))]\n",
    "m_names = [string(m) for m = keys(model_settings)]\n",
    "\n",
    "model_set = [5,7,6,8]; # focusing only models that use single reward function\n",
    "\n",
    "# ------------------------------------------------------------------------------\n",
    "# parameters dataframe\n",
    "# ------------------------------------------------------------------------------\n",
    "ηdf_CV = CSV.read(\"data/modeling/Params.CSV\", DataFrame)"
   ]
  },
  {
   "cell_type": "markdown",
   "metadata": {},
   "source": [
    "## Simulating the models"
   ]
  },
  {
   "cell_type": "markdown",
   "metadata": {},
   "source": [
    "The code below, go over all models and simulate them for 1500 random seeds---according to the protocol described in the Supplementary Information. The simulated data will be saved in `src/02_PPCSimulation/Figures/`. These files will be used for extracting general statistics for Figure 5B and SFigure 3 (see `src/02_PPCSimulation/PPC_Simulation_plot.jl`)"
   ]
  },
  {
   "cell_type": "code",
   "execution_count": null,
   "metadata": {},
   "outputs": [],
   "source": [
    "n_sub = 1500    # you may want to test with a smaller number first\n",
    "for i_model = eachindex(model_set)\n",
    "        η = Array(ηdf_CV[!,[m_names[model_set[i_model]] * \"_f\" * string(i_fold)\n",
    "                                                         for i_fold = 1:3]])\n",
    "        i_pars = Vector{Float64}([])\n",
    "\n",
    "        rng = MersenneTwister(2024)\n",
    "        SData = Vector{Str_Input}([])\n",
    "        SGoal_type_Set = Vector{Int64}([])\n",
    "        for i = 1:n_sub\n",
    "                println(\"--------------------------------\")\n",
    "                println(\"--------------------------------\")\n",
    "                @show m_names[model_set[i_model]]\n",
    "                @show i\n",
    "                \n",
    "                # sampling parameters\n",
    "                i_par = rand(rng, 1:3)\n",
    "                push!(i_pars, i_par)\n",
    "                p = parameters(A,η[:,i_par])\n",
    "                # simulationg the agent\n",
    "                temp = simulate(A, p; ifpass_env = true, rng = rng)\n",
    "                # reading out the goal type\n",
    "                G_type = temp.data[1].G_type\n",
    "                push!(SGoal_type_Set, G_type)\n",
    "                temp = Str_SASeq2Input(temp)\n",
    "\n",
    "                @show G_type\n",
    "                @show Func_GoalType(temp)\n",
    "                @show Func_EpiLenghts(temp)\n",
    "                push!(SData,temp)\n",
    "                println(\"--------------------------------\")\n",
    "                println(\"--------------------------------\")\n",
    "        end\n",
    "\n",
    "        Data_Path_Save = Path_Save * string(m_names[model_set[i_model]]) * \"/Data/sdata.jld2\"\n",
    "        save(Data_Path_Save, \"η\", η, \"SData\", SData, \"i_pars\", i_pars,\n",
    "                             \"SGoal_type_Set\", SGoal_type_Set)\n",
    "end"
   ]
  },
  {
   "cell_type": "markdown",
   "metadata": {},
   "source": [
    "## Plotting qualitative results (as in Fig 2DF and Fig 5A)\n",
    "\n",
    "To plot the results, you can treat the simulated data just like the normal data (as in `figures/Figure2AC.ipynb`). The script in `src/02_PPCSimulation/PPC_Simulation_plot.jl` reproduces and saves all the figures. It additionally extract all the 43 summary statistics described in the paper and saves them in `src/02_PPCSimulation/figures/PPCStats.CSV`\n",
    "\n",
    "Here is one example for novelty-seeking:"
   ]
  },
  {
   "cell_type": "code",
   "execution_count": null,
   "metadata": {},
   "outputs": [],
   "source": [
    "i_model = 1\n",
    "Colors = [\"#004D66\",\"#0350B5\",\"#00CCF5\"]\n",
    "Data_Path_Load = Path_Save * string(m_names[model_set[i_model]]) * \"/Data/sdata.jld2\"\n",
    "# loading the data\n",
    "temp = load(Data_Path_Load)\n",
    "SData = temp[\"SData\"]\n",
    "SOutliers, SLong_Subject, SQuit_Subject, SData, SGoal_type_Set, SSub_Num = \n",
    "        Read_processed_data(Data=SData, Plotting = true)\n",
    "\n",
    "# WARNING: \n",
    "# If you have simulated a smaller number of participants, then you may get an \n",
    "# error with the following choice of number of data points to be plotted. \n",
    "# You can replace the line with\n",
    "#       points_to_plot = -1; points_to_plot2 = -1\n",
    "points_to_plot = 20; points_to_plot2 = 60"
   ]
  },
  {
   "cell_type": "code",
   "execution_count": null,
   "metadata": {},
   "outputs": [],
   "source": [
    "Func_plot_state_ratio_Epi25(SData, SGoal_type_Set;\n",
    "        Colors = Colors,\n",
    "        Sub_testing = false,\n",
    "        Traps = [8,9],\n",
    "        Stoch = [7],\n",
    "        All_states = Array(1:9),\n",
    "        ifsave=false,\n",
    "        points_to_plot = points_to_plot)\n"
   ]
  },
  {
   "cell_type": "markdown",
   "metadata": {},
   "source": [
    "## Plotting the quantitative results (Fig 5B and SFig 3)\n",
    "\n",
    "For The script in `src/02_PPCSimulation/PPC_Simulation_plot.jl` extracts all the 43 summary statistics described in the paper and saves them in `src/02_PPCSimulation/figures/PPCStats.CSV`. The code below reads out `src/02_PPCSimulation/figures/PPCStats.CSV` and plot the quantitative results."
   ]
  },
  {
   "cell_type": "code",
   "execution_count": null,
   "metadata": {},
   "outputs": [],
   "source": [
    "# reading out the dataframe\n",
    "df_stats = CSV.read(Path_Save * \"PPCStats.CSV\", DataFrame)\n",
    "# picking the names of colums for the standard error of different statistics\n",
    "dNames = filter(s -> startswith(s, \"d\"), names(df_stats))\n",
    "# the names of colums for different statistics\n",
    "Names  = replace.(dNames, r\"^d\" => \"\")\n",
    "\n",
    "# evaluating the relative errors\n",
    "ddf_stats = DataFrame(Models = m_names[model_set])\n",
    "for s = Names\n",
    "        ddf_stats[:,s] = zeros(length(model_set))\n",
    "end\n",
    "for i_model = eachindex(model_set)\n",
    "        for s = Names\n",
    "                i_model2 = findmax(df_stats.Models .== m_names[model_set[i_model]])[2]\n",
    "                ddf_stats[i_model,s] = \n",
    "                        (df_stats[i_model2,s] - df_stats[end,s]) /\n",
    "                        sqrt(df_stats[i_model2,\"d\"*s]^2 + df_stats[end,\"d\"*s]^2)\n",
    "        end        \n",
    "end\n",
    "\n",
    "# plotting\n",
    "ylims = [1.8,3.5]\n",
    "\n",
    "x_names = m_names[model_set]; x = 1:length(model_set)\n",
    "\n",
    "fig = figure(figsize=(9,6)); \n",
    "ax = subplot(1,2,1)\n",
    "y = mean(abs.(Array(\n",
    "                ddf_stats[ddf_stats.Models .== x_names, Names])), \n",
    "        dims=2)[:]\n",
    "ax.bar(x, y, color = \"k\")\n",
    "ax.set_xticks(x); ax.set_xticklabels(x_names)\n",
    "ax.set_ylabel(\"average relative error\")\n",
    "ax.set_xlim([x[1]-1,x[end]+1])\n",
    "ax.set_ylim(ylims)\n",
    "\n",
    "ax = subplot(1,2,2)\n",
    "y = median(abs.(Array(\n",
    "                ddf_stats[ddf_stats.Models .== x_names, Names])), \n",
    "        dims=2)[:]\n",
    "ax.bar(x, y, color = \"k\")\n",
    "ax.set_xticks(x); ax.set_xticklabels(x_names)\n",
    "ax.set_ylabel(\"median relative error\")\n",
    "ax.set_xlim([x[1]-1,x[end]+1])\n",
    "ax.set_ylim(ylims)\n",
    "tight_layout()\n",
    "display(fig)\n",
    "\n"
   ]
  },
  {
   "cell_type": "code",
   "execution_count": null,
   "metadata": {},
   "outputs": [],
   "source": [
    "fig = figure(figsize=(20,3)); \n",
    "ax = subplot(1,1,1)\n",
    "cp = ax.imshow(abs.(Array(ddf_stats[ddf_stats.Models .== x_names, Names])), cmap=\"Reds\")\n",
    "ax.set_xticks(0:(length(Names)-1))\n",
    "ax.set_xticklabels(Names, rotation = 90)\n",
    "ax.set_yticks(0:(x[end]-1))\n",
    "ax.set_yticklabels(x_names)\n",
    "fig.colorbar(cp, ax=ax)\n",
    "tight_layout()\n",
    "display(fig)\n"
   ]
  },
  {
   "cell_type": "markdown",
   "metadata": {},
   "source": [
    "## Simulating efficient algorithms"
   ]
  },
  {
   "cell_type": "markdown",
   "metadata": {},
   "source": [
    "To simulate the efficient algorithms (in Fig S1 and Fig S2), one can repeat the procedure above by with the parameters in `IMRLExploration.η0_efficient_sim` instead of the fitted parameters. See `HowTo.ipynb` for an example."
   ]
  },
  {
   "cell_type": "markdown",
   "metadata": {},
   "source": []
  }
 ],
 "metadata": {
  "@webio": {
   "lastCommId": null,
   "lastKernelId": null
  },
  "kernelspec": {
   "display_name": "Julia 1.10.3",
   "language": "julia",
   "name": "julia-1.10"
  },
  "language_info": {
   "file_extension": ".jl",
   "mimetype": "application/julia",
   "name": "julia",
   "version": "1.10.3"
  }
 },
 "nbformat": 4,
 "nbformat_minor": 4
}
