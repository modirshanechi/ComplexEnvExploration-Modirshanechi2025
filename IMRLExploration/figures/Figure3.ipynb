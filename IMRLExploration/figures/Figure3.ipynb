{
 "cells": [
  {
   "cell_type": "code",
   "execution_count": null,
   "metadata": {},
   "outputs": [],
   "source": [
    "using Pkg\n",
    "cd(\"../\")\n",
    "Pkg.activate(\".\")"
   ]
  },
  {
   "cell_type": "markdown",
   "metadata": {},
   "source": [
    "## General inofrmation"
   ]
  },
  {
   "cell_type": "markdown",
   "metadata": {},
   "source": [
    "This notebook reproduce all the results for analyzing the reconstruction data in Figure 3."
   ]
  },
  {
   "cell_type": "code",
   "execution_count": null,
   "metadata": {},
   "outputs": [],
   "source": [
    "using Revise\n",
    "using PyPlot\n",
    "using IMRLExploration\n",
    "using CSV\n",
    "using DataFrames\n",
    "using Statistics\n",
    "using HypothesisTests\n",
    "using Bootstrap\n",
    "\n",
    "PyPlot.svg(true)\n",
    "rcParams = PyPlot.PyDict(PyPlot.matplotlib.\"rcParams\")\n",
    "rcParams[\"svg.fonttype\"] = \"none\"\n",
    "rcParams[\"pdf.fonttype\"] = 42\n",
    "\n",
    "Colors = [\"#004D66\",\"#0350B5\",\"#00CCF5\"]\n",
    "Legends = [\"CHF2\",\"CHF3\",\"CHF4\"]\n",
    "σ = 0.2;"
   ]
  },
  {
   "cell_type": "markdown",
   "metadata": {},
   "source": [
    "## Loading data"
   ]
  },
  {
   "cell_type": "code",
   "execution_count": null,
   "metadata": {},
   "outputs": [],
   "source": [
    "# ------------------------------------------------------------------------------\n",
    "# Loading data\n",
    "# ------------------------------------------------------------------------------\n",
    "Outliers, Long_Subject, Quit_Subject, Data, Goal_type_Set, Sub_Num =\n",
    "        Read_processed_data(Plotting = true);\n",
    "# ------------------------------------------------------------------------------\n",
    "# Loading drawings\n",
    "# ------------------------------------------------------------------------------\n",
    "df_graps = coalesce.(CSV.read(\"data/graphs.csv\", DataFrame),0);"
   ]
  },
  {
   "cell_type": "markdown",
   "metadata": {},
   "source": [
    "## Ground truth"
   ]
  },
  {
   "cell_type": "code",
   "execution_count": null,
   "metadata": {},
   "outputs": [],
   "source": [
    "Names = [\"Ts\", \"P1\", \"P2\", \"P3\", \"P4\", \"P5\", \"P6\", \"X\", \"S-44\"]; Ns=length(Names)\n",
    "# Function dfg2matg returns the ground-truth graph\n",
    "#       see src/Functions_for_data.jl\n",
    "X_truth = dfg2matg()\n",
    "fig = figure(figsize=(10,8))\n",
    "X_plot = X_truth;\n",
    "ax = subplot(1,1,1)\n",
    "cpfig = ax.imshow(X_plot,vmin=0,vmax=1.0)\n",
    "for i = 1:Ns\n",
    "        for j = 1:Ns\n",
    "                if !isnan(X_plot[i,j])\n",
    "                        ax.text(j - 1, i - 1, string(round(X_plot[i,j],digits=2)),\n",
    "                                horizontalalignment=\"center\")\n",
    "                end\n",
    "        end\n",
    "end\n",
    "fig.colorbar(cpfig, ax=ax)\n",
    "ax.set_xticks(0:(Ns-1)); ax.set_xticklabels(Names)\n",
    "ax.set_yticks(0:(Ns-1)); ax.set_yticklabels(Names)\n",
    "display(fig)\n"
   ]
  },
  {
   "cell_type": "markdown",
   "metadata": {},
   "source": [
    "## General statistics of human behavior (Fig 3A1)"
   ]
  },
  {
   "cell_type": "code",
   "execution_count": null,
   "metadata": {},
   "outputs": [],
   "source": [
    "dfg1 = df_graps[Outliers .== 0, :]\n",
    "Xs = [dfg2matg(dfg1, n; Names = Names) for n = 1:Sub_Num]\n",
    "\n",
    "fig = figure(figsize=(10,8))\n",
    "X_plot = mean(Xs); dX_plot = std(Xs) ./ sqrt(Sub_Num)\n",
    "ax = subplot(1,1,1)\n",
    "cpfig = ax.imshow(X_plot,vmin=0,vmax=1.0)\n",
    "for i = 1:Ns\n",
    "        for j = 1:Ns\n",
    "                if !isnan(X_plot[i,j])\n",
    "                        ax.text(j - 1, i - 1.1, string(round(X_plot[i,j],digits=2)),\n",
    "                                horizontalalignment=\"center\")\n",
    "                        ax.text(j - 1, i - 0.9, string(\"+-\",round(dX_plot[i,j],digits=2)),\n",
    "                                horizontalalignment=\"center\")\n",
    "                end\n",
    "        end\n",
    "end\n",
    "fig.colorbar(cpfig, ax=ax)\n",
    "ax.set_xticks(0:(Ns-1)); ax.set_xticklabels(Names)\n",
    "ax.set_yticks(0:(Ns-1)); ax.set_yticklabels(Names)\n",
    "display(fig)\n"
   ]
  },
  {
   "cell_type": "code",
   "execution_count": null,
   "metadata": {},
   "outputs": [],
   "source": [
    "# ------------------------------------------------------------------------------\n",
    "# Number of participants who constructed the entire path from the traps to P6\n",
    "# ------------------------------------------------------------------------------\n",
    "X_truth2goal = ldfg2matg2goal(); # all links from traps to state 6\n",
    "fig = figure(figsize=(10,8))\n",
    "X_plot = X_truth2goal\n",
    "ax = subplot(1,1,1)\n",
    "cpfig = ax.imshow(X_plot,vmin=0,vmax=1.0)\n",
    "for i = 1:Ns\n",
    "        for j = 1:Ns\n",
    "                if !isnan(X_plot[i,j])\n",
    "                        ax.text(j - 1, i - 1, string(round(X_plot[i,j],digits=2)),\n",
    "                                horizontalalignment=\"center\")\n",
    "                end\n",
    "        end\n",
    "end\n",
    "fig.colorbar(cpfig, ax=ax)\n",
    "ax.set_xticks(0:(Ns-1)); ax.set_xticklabels(Names)\n",
    "ax.set_yticks(0:(Ns-1)); ax.set_yticklabels(Names)\n",
    "display(fig)\n",
    "\n",
    "Fraction2Goal = [matg_2goalscore(X_truth2goal, Xs[n]) for n = eachindex(Xs)]\n",
    "println(\"---------------------------\")\n",
    "println(\"Number of participants who reconstructed the complete path to the goal:\")\n",
    "println(string(sum(Fraction2Goal .== 1)) *  \" out of \" * string(length(Xs)))\n",
    "println(\"---------------------------\")"
   ]
  },
  {
   "cell_type": "markdown",
   "metadata": {},
   "source": [
    "## General comparison (Fig 3A2)"
   ]
  },
  {
   "cell_type": "code",
   "execution_count": null,
   "metadata": {},
   "outputs": [],
   "source": [
    "# 2-hub connections\n",
    "X_neighb = dfg2matg2HubMask()\n",
    "fig = figure(figsize=(10,8))\n",
    "X_plot = X_neighb;\n",
    "ax = subplot(1,1,1)\n",
    "cpfig = ax.imshow(X_plot,vmin=0,vmax=1.0)\n",
    "for i = 1:Ns\n",
    "        for j = 1:Ns\n",
    "                if !isnan(X_plot[i,j])\n",
    "                        ax.text(j - 1, i - 1, string(round(X_plot[i,j],digits=2)),\n",
    "                                horizontalalignment=\"center\")\n",
    "                end\n",
    "        end\n",
    "end\n",
    "fig.colorbar(cpfig, ax=ax)\n",
    "ax.set_xticks(0:(Ns-1)); ax.set_xticklabels(Names)\n",
    "ax.set_yticks(0:(Ns-1)); ax.set_yticklabels(Names)\n",
    "display(fig)\n"
   ]
  },
  {
   "cell_type": "code",
   "execution_count": null,
   "metadata": {},
   "outputs": [],
   "source": [
    "# whether 4 was connected to S-44 for each participant\n",
    "x_4N = [Xs[n][5,9] for n = eachindex(Xs)]\n",
    "\n",
    "# whether X was connected to S-44 for each participant\n",
    "x_XN = [Xs[n][8,9] for n = eachindex(Xs)]\n",
    "\n",
    "# average errore rate for n-hop connections with n > 2 for each participant\n",
    "X_wrong1 = 1 .- X_truth; # finding all wrong connections\n",
    "X_wrong1[8,9] = NaN; # removing the wrong connection between X and S-44\n",
    "X_wrong1[X_wrong1 .== 0] .= NaN; # replacing correct connections by NaN\n",
    "X_wrong1[X_neighb .== 1] .= NaN; # removing 2-hop connections\n",
    "x_wrong1 = [mean(      x[isnan.(X_wrong1) .== 0] .* \n",
    "                X_wrong1[isnan.(X_wrong1) .== 0]     ) for x = Xs]\n",
    "\n",
    "# average errore rate for 2-hop for each participant\n",
    "x_wrong2 = [mean(x[isnan.(X_neighb) .== 0] .* \n",
    "                 X_neighb[isnan.(X_neighb) .== 0]) for x = Xs]\n",
    "\n",
    "fig = figure(figsize=(5,5))\n",
    "ax = subplot(1,1,1)\n",
    "XPlots = [x_wrong1, x_wrong2, x_XN, x_4N]\n",
    "for i = eachindex(XPlots)\n",
    "    mx_plot = mean(XPlots[i]); \n",
    "    dx_plot = std(XPlots[i]) ./ sqrt(length(XPlots[i]))\n",
    "    ax.bar(i,mx_plot)\n",
    "    ax.errorbar(i,mx_plot,yerr=dx_plot,color=\"k\",\n",
    "            linewidth=1,drawstyle=\"steps\",linestyle=\"\",capsize=3)\n",
    "end\n",
    "for i = 1:3\n",
    "    for j = [4]\n",
    "            Test_result = OneSampleTTest(XPlots[j],XPlots[i])\n",
    "            println(Test_result)\n",
    "            pval = pvalue(Test_result)\n",
    "            logBF = BIC_OneSampleTTest(XPlots[j],XPlots[i])\n",
    "            logBF = [logBF, -logBF]\n",
    "            y_p_temp = 0.05 + i*0.07 + j*0.035\n",
    "            ax.plot([i,j],[1,1] .* y_p_temp, \"k\")\n",
    "            ax.text((i+j)/2,y_p_temp+0.01,\n",
    "                    string(\"p:\",Func_pval_string(pval),\n",
    "                            \", lBF:\",Func_logBF_string(logBF[1]),\n",
    "                                    \",\",Func_logBF_string(logBF[2])),\n",
    "                    fontsize=12, horizontalalignment=\"center\", rotation=0)\n",
    "    end\n",
    "end\n",
    "ax.set_xlim([0,5]);ax.set_ylim([0,0.5])\n",
    "ax.set_xticks(1:4); ax.set_xticklabels([\"n-hop\",\"2-hop\",\"X-S44\",\"P4-S44\"])\n",
    "ax.set_ylabel(\"ratio\")\n",
    "tight_layout()\n",
    "\n",
    "display(fig)"
   ]
  },
  {
   "cell_type": "markdown",
   "metadata": {},
   "source": [
    "## Reconstruction score (Fig 3B)"
   ]
  },
  {
   "cell_type": "code",
   "execution_count": null,
   "metadata": {},
   "outputs": [],
   "source": [
    "# ------------------------------------------------------------------------------\n",
    "# Graph accuracy\n",
    "# ------------------------------------------------------------------------------\n",
    "x1 = X_truth[:]; x1 = x1[isnan.(x1) .== 0]\n",
    "scores = [matg_accscore(X_truth, Xs[n]) for n = 1:Sub_Num]\n",
    "scores_null1 = [matg_accscore(x1, (rand(length(x1)) .> 0.5) .* 1.) \n",
    "                                                        for n = 1:1000]\n",
    "X_plot_sets = vcat([scores[Goal_type_Set .== g] for g = 0:2],\n",
    "                [scores_null1])\n",
    "Legends2 = vcat(Legends, [\"Random\"])\n",
    "Colors2 = vcat(Colors, [\"#778da9\"])\n",
    "fig = figure(figsize=(5,8))\n",
    "ax = subplot(1,1,1)\n",
    "for i = eachindex(X_plot_sets)\n",
    "        x_plot = X_plot_sets[i]\n",
    "        mx_plot = mean(x_plot); dx_plot = std(x_plot) ./ sqrt(length(x_plot))\n",
    "        ax.bar(i,mx_plot, color = Colors2[i])\n",
    "        ax.errorbar(i,mx_plot,yerr=dx_plot,color=\"k\",\n",
    "                linewidth=1,drawstyle=\"steps\",linestyle=\"\",capsize=3)\n",
    "        if Legends2[i] == \"Random\"\n",
    "                x_plot = x_plot[1:40]\n",
    "        else\n",
    "                Test_result = OneSampleTTest(x_plot)\n",
    "                println(Test_result)\n",
    "                logBF = BIC_OneSampleTTest(x_plot)\n",
    "                logBF = [logBF, -logBF]\n",
    "                println(logBF)\n",
    "        end\n",
    "        ax.plot(i .+ 2 .* σ .* (rand(length(x_plot)) .- 0.5),\n",
    "                x_plot, \".k\", alpha = 0.5)\n",
    "end\n",
    "ax.plot([0,length(X_plot_sets) + 1],[0,0],\"--k\")\n",
    "ax.set_xlim([0,length(X_plot_sets) + 1]); ax.set_ylim([-0.4,1])\n",
    "ax.set_xticks(1:length(X_plot_sets)); ax.set_xticklabels(Legends2)\n",
    "ax.set_ylabel(\"reconstruction score\")\n",
    "tight_layout()\n",
    "display(fig)"
   ]
  },
  {
   "cell_type": "markdown",
   "metadata": {},
   "source": [
    "## Statistics of participants who constructed 4-S44 (Fig 3C-D)"
   ]
  },
  {
   "cell_type": "code",
   "execution_count": null,
   "metadata": {},
   "outputs": [],
   "source": [
    "# ------------------------------------------------------------------------------\n",
    "# Connections of S44 to state 4 vs, data statistics\n",
    "# ------------------------------------------------------------------------------\n",
    "Ys = []; YNames = []; Ylims = []\n",
    "# number of times in S44\n",
    "Y = [sum(hcat([Data[n].images[i] for i = 1:5]...)[2,:] .== 43) \n",
    "                                                for n = 1:Sub_Num]\n",
    "Y = hcat(Y,Y) .* 1.\n",
    "push!(Ys, Y); push!(YNames, \"#S44\"); push!(Ylims, [0,40])\n",
    "# number transitions from 4 to S44 and vice versa\n",
    "# indicator of being in S44\n",
    "Y1 = [ hcat([Data[n].images[i] for i = 1:5]...)[2,:] .== 43 \n",
    "                                                for n = 1:Sub_Num]\n",
    "# indicator of being in 4\n",
    "Y2 = [(hcat([Data[n].images[i] for i = 1:5]...)[2,:] .== 3) .& \n",
    "      (hcat([Data[n].images[i] for i = 1:5]...)[1,:] .== 1)\n",
    "                                                for n = 1:Sub_Num]\n",
    "# being in 4 before and after S44\n",
    "Y = [   sum(Y1[n][2:(length(Y1[n]))] .* Y2[n][1:(length(Y1[n])-1)]) +\n",
    "        sum(Y2[n][2:(length(Y1[n]))] .* Y1[n][1:(length(Y1[n])-1)]) \n",
    "        for n = 1:Sub_Num]\n",
    "Y = hcat(Y,Y) .* 1.\n",
    "push!(Ys, Y); push!(YNames, \"#4-S44\"); push!(Ylims, [0,4])\n",
    "\n",
    "\n",
    "for i = eachindex(Ys)\n",
    "        Y = Ys[i]\n",
    "        x_plot = Y[x_4N .== 0,2]; Gx = Goal_type_Set[x_4N .== 0]\n",
    "        y_plot = Y[x_4N .== 1,2]; Gy = Goal_type_Set[x_4N .== 1]\n",
    "        \n",
    "        fig = figure(figsize=(4,5))\n",
    "        ax = subplot(1,1,1)\n",
    "        \n",
    "        mx_plot = mean(x_plot); dx_plot = std(x_plot) ./ sqrt(length(x_plot))\n",
    "        ax.bar(1,mx_plot,color=\"#778da9\")\n",
    "        ax.errorbar(1,mx_plot,yerr=dx_plot,color=\"k\",\n",
    "                linewidth=1,drawstyle=\"steps\",linestyle=\"\",capsize=3)\n",
    "        my_plot = mean(y_plot); dy_plot = std(y_plot) ./ sqrt(length(y_plot))\n",
    "        ax.bar(2,my_plot,color=\"#778da9\")\n",
    "        ax.errorbar(2,my_plot,yerr=dy_plot,color=\"k\",\n",
    "                linewidth=1,drawstyle=\"steps\",linestyle=\"\",capsize=3)\n",
    "        for g = 1:3\n",
    "                ax.plot(1 .+ 2 .* σ .* (rand(sum(Gx .== (g-1))) .- 0.5),\n",
    "                        x_plot[Gx .== (g-1)], \".\", color = Colors[g])\n",
    "                ax.plot(2 .+ 2 .* σ .* (rand(sum(Gy .== (g-1))) .- 0.5),\n",
    "                        y_plot[Gy .== (g-1)], \".\", color = Colors[g])\n",
    "        end\n",
    "        ax.set_xlim([0,3]); ax.set_ylim(Ylims[i])\n",
    "        ax.set_xticks(1:2); ax.set_xticklabels([\"P4-S44=0\",\"P4-S44=1\"])\n",
    "        ax.set_ylabel(YNames[i])\n",
    "        Test_result = UnequalVarianceTTest(x_plot, y_plot)\n",
    "        @show Test_result\n",
    "        pval = pvalue(Test_result)\n",
    "        logBF = [BIC_UnequalVarianceTTest(x_plot, y_plot),\n",
    "                -BIC_UnequalVarianceTTest(x_plot, y_plot)]\n",
    "        ax.set_title(\n",
    "                \"p:\" * Func_pval_string(pval) *\n",
    "                \", lBF:\" * Func_logBF_string(logBF[1]) *\n",
    "                \",\" * Func_logBF_string(logBF[2]))\n",
    "        tight_layout()\n",
    "        display(fig)        \n",
    "end\n"
   ]
  }
 ],
 "metadata": {
  "@webio": {
   "lastCommId": null,
   "lastKernelId": null
  },
  "kernelspec": {
   "display_name": "Julia 1.10.3",
   "language": "julia",
   "name": "julia-1.10"
  },
  "language_info": {
   "file_extension": ".jl",
   "mimetype": "application/julia",
   "name": "julia",
   "version": "1.10.3"
  }
 },
 "nbformat": 4,
 "nbformat_minor": 4
}
