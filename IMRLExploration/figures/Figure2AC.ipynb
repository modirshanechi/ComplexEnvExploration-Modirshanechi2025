{
 "cells": [
  {
   "cell_type": "code",
   "execution_count": null,
   "metadata": {},
   "outputs": [],
   "source": [
    "using Pkg\n",
    "cd(\"../\")\n",
    "Pkg.activate(\".\")"
   ]
  },
  {
   "cell_type": "markdown",
   "metadata": {},
   "source": [
    "## General inofrmation"
   ]
  },
  {
   "cell_type": "markdown",
   "metadata": {},
   "source": [
    "This notebook reproduce all the results for analyzing behavioral data in Figure 2A-C."
   ]
  },
  {
   "cell_type": "code",
   "execution_count": null,
   "metadata": {},
   "outputs": [],
   "source": [
    "using Revise\n",
    "using PyPlot\n",
    "using IMRLExploration\n",
    "using DataFrames\n",
    "using Statistics\n",
    "using HypothesisTests\n",
    "\n",
    "PyPlot.svg(true)\n",
    "rcParams = PyPlot.PyDict(PyPlot.matplotlib.\"rcParams\")\n",
    "rcParams[\"svg.fonttype\"] = \"none\"\n",
    "rcParams[\"pdf.fonttype\"] = 42\n",
    "\n",
    "Colors = [\"#004D66\",\"#0350B5\",\"#00CCF5\"]\n",
    "Legends = [\"CHF2\",\"CHF3\",\"CHF4\"]"
   ]
  },
  {
   "cell_type": "markdown",
   "metadata": {},
   "source": [
    "## Loading data"
   ]
  },
  {
   "cell_type": "code",
   "execution_count": null,
   "metadata": {},
   "outputs": [],
   "source": [
    "# ------------------------------------------------------------------------------\n",
    "# Loading data\n",
    "# ------------------------------------------------------------------------------\n",
    "Outliers, Long_Subject, Quit_Subject, Data, Goal_type_Set, Sub_Num =\n",
    "        Read_processed_data(Plotting = true);"
   ]
  },
  {
   "cell_type": "markdown",
   "metadata": {},
   "source": [
    "## Fractions of time steps in episode 1 (Fig 2A)"
   ]
  },
  {
   "cell_type": "code",
   "execution_count": null,
   "metadata": {},
   "outputs": [],
   "source": [
    "Func_plot_state_ratio_Epi1(Data, Goal_type_Set;\n",
    "        Colors = Colors[[1,3]],\n",
    "        Traps = [8,9],\n",
    "        Stoch = [7],\n",
    "        All_states = Array(1:9), \n",
    "        ifsave=false)\n"
   ]
  },
  {
   "cell_type": "markdown",
   "metadata": {},
   "source": [
    "## Statistics based on the fraction of times in traps and stochastic states \n",
    "## during episodes 2-5 (including Fig 2B2)"
   ]
  },
  {
   "cell_type": "code",
   "execution_count": null,
   "metadata": {},
   "outputs": [],
   "source": [
    "Func_plot_state_ratio_Epi25(Data, Goal_type_Set;\n",
    "        Colors = Colors,\n",
    "        Sub_testing = false,\n",
    "        Traps = [8,9],\n",
    "        Stoch = [7],\n",
    "        All_states = Array(1:9),\n",
    "        ifsave=false)\n"
   ]
  },
  {
   "cell_type": "markdown",
   "metadata": {},
   "source": [
    "## Statistics based on number of actions during episodes 2-5 (including Fig 2B1 and Fig 2C)"
   ]
  },
  {
   "cell_type": "code",
   "execution_count": null,
   "metadata": {},
   "outputs": [],
   "source": [
    "Func_plot_hist_Epi25(Data, Goal_type_Set;\n",
    "        Epis = 2:5,\n",
    "        Colors = Colors,\n",
    "        y_lims = [0,400],\n",
    "        points_to_plot = -1,\n",
    "        ifsave=false)"
   ]
  },
  {
   "cell_type": "code",
   "execution_count": null,
   "metadata": {},
   "outputs": [],
   "source": []
  }
 ],
 "metadata": {
  "@webio": {
   "lastCommId": null,
   "lastKernelId": null
  },
  "kernelspec": {
   "display_name": "Julia 1.10.3",
   "language": "julia",
   "name": "julia-1.10"
  },
  "language_info": {
   "file_extension": ".jl",
   "mimetype": "application/julia",
   "name": "julia",
   "version": "1.10.3"
  }
 },
 "nbformat": 4,
 "nbformat_minor": 4
}
