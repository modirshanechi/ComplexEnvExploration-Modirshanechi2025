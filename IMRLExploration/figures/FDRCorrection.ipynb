{
 "cells": [
  {
   "cell_type": "code",
   "execution_count": null,
   "metadata": {},
   "outputs": [],
   "source": [
    "using Pkg\n",
    "cd(\"../\")\n",
    "Pkg.activate(\".\")"
   ]
  },
  {
   "cell_type": "markdown",
   "metadata": {},
   "source": [
    "This notebook performs the FDR correction for all the null hypotheses tested in the main text."
   ]
  },
  {
   "cell_type": "code",
   "execution_count": null,
   "metadata": {},
   "outputs": [],
   "source": [
    "using IMRLExploration\n",
    "\n",
    "# Behavioral figure (Fig. 2)\n",
    "pvals_F2 = [1e-7,\n",
    "            1e-6,\n",
    "            1e-4,\n",
    "            1e-4,\n",
    "            0.54]\n",
    "\n",
    "# Reconstruction figure (Fig. 3)\n",
    "pvals_F3 = [1e-4, 1e-3, 0.017,\n",
    "            1e-4, 1e-4, 1e-4,\n",
    "            0.004,\n",
    "            0.046]\n",
    "\n",
    "# All main figs together\n",
    "pvals = vcat(pvals_F2, pvals_F3)\n",
    "println(\"--------------------------------\");\n",
    "println(\"Threshold with FDR controlled at 5%:\");\n",
    "R0, argR0, pval_thresh = FDR_control_pval(pvals;FDR=0.05);\n",
    "@show pval_thresh\n",
    "println(\"Threshold with FDR controlled at 10%:\");\n",
    "R0, argR0, pval_thresh = FDR_control_pval(pvals;FDR=0.1);\n",
    "@show pval_thresh;\n"
   ]
  }
 ],
 "metadata": {
  "@webio": {
   "lastCommId": null,
   "lastKernelId": null
  },
  "kernelspec": {
   "display_name": "Julia 1.10.3",
   "language": "julia",
   "name": "julia-1.10"
  },
  "language_info": {
   "file_extension": ".jl",
   "mimetype": "application/julia",
   "name": "julia",
   "version": "1.10.3"
  }
 },
 "nbformat": 4,
 "nbformat_minor": 4
}
